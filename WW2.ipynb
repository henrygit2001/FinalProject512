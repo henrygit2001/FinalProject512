{
 "cells": [
  {
   "cell_type": "code",
   "execution_count": 39,
   "metadata": {},
   "outputs": [],
   "source": [
    "import pandas as pd\n",
    "import altair as alt\n",
    "import numpy as np"
   ]
  },
  {
   "cell_type": "code",
   "execution_count": 40,
   "metadata": {},
   "outputs": [
    {
     "name": "stdout",
     "output_type": "stream",
     "text": [
      "            Country    Side       Total\n",
      "0      Soviet Union  Allied  34476000.0\n",
      "28          Germany    Axis  18100000.0\n",
      "2     United States  Allied  16354000.0\n",
      "3             China  Allied  14000000.0\n",
      "31          Italy**    Axis   9100000.0\n",
      "32            Japan    Axis   9100000.0\n",
      "6     Great Britain  Allied   5896000.0\n",
      "7            France  Allied   5000000.0\n",
      "8             India  Allied   2581000.0\n",
      "9            Poland  Allied   2000000.0\n",
      "37          Romania    Axis   2000000.0\n",
      "11       Yugoslavia  Allied   1500000.0\n",
      "12           Canada  Allied   1100000.0\n",
      "13        Australia  Allied   1000000.0\n",
      "41          Finland    Axis    650000.0\n",
      "15  Other Allied***  Allied    620000.0\n",
      "16          Belgium  Allied    600000.0\n",
      "44          Hungary    Axis    600000.0\n",
      "18           Greece  Allied    540000.0\n",
      "46         Bulgaria    Axis    450000.0\n",
      "20      Netherlands  Allied    400000.0\n",
      "21     South Africa  Allied    330000.0\n",
      "22      New Zealand  Allied    204000.0\n",
      "50          Croatia    Axis    200000.0\n",
      "51        Manchukuo    Axis    200000.0\n",
      "25           Norway  Allied     90000.0\n",
      "53         Slovakia    Axis     80000.0\n"
     ]
    }
   ],
   "source": [
    "ww2 = pd.read_excel('statistic_id1342260_wwii_-number-of-people-mobilized-by-selected-countries-1937-1945.xlsx',sheet_name='Data',skiprows=4)\n",
    "ww2.columns = ww2.columns.str.replace('Unnamed: 1', 'Country')\n",
    "ww2 = ww2.loc[:,'Country':]\n",
    "\n",
    "ww2 = ww2.melt(id_vars=['Country'], var_name=\"Side\", value_name=\"Total\")\n",
    "ww2 = ww2.dropna()\n",
    "ww2 = ww2.sort_values('Total', ascending = False)\n",
    "ww2 = ww2.head(100)\n",
    "print (ww2)"
   ]
  },
  {
   "cell_type": "code",
   "execution_count": 41,
   "metadata": {},
   "outputs": [
    {
     "name": "stderr",
     "output_type": "stream",
     "text": [
      "/Users/henrynguyen/anaconda3/lib/python3.11/site-packages/altair/utils/deprecation.py:65: AltairDeprecationWarning: 'add_selection' is deprecated. Use 'add_params' instead.\n",
      "  warnings.warn(message, AltairDeprecationWarning, stacklevel=1)\n"
     ]
    },
    {
     "data": {
      "text/html": [
       "\n",
       "<style>\n",
       "  #altair-viz-b329b98c364640bc8dd0780efbd74da1.vega-embed {\n",
       "    width: 100%;\n",
       "    display: flex;\n",
       "  }\n",
       "\n",
       "  #altair-viz-b329b98c364640bc8dd0780efbd74da1.vega-embed details,\n",
       "  #altair-viz-b329b98c364640bc8dd0780efbd74da1.vega-embed details summary {\n",
       "    position: relative;\n",
       "  }\n",
       "</style>\n",
       "<div id=\"altair-viz-b329b98c364640bc8dd0780efbd74da1\"></div>\n",
       "<script type=\"text/javascript\">\n",
       "  var VEGA_DEBUG = (typeof VEGA_DEBUG == \"undefined\") ? {} : VEGA_DEBUG;\n",
       "  (function(spec, embedOpt){\n",
       "    let outputDiv = document.currentScript.previousElementSibling;\n",
       "    if (outputDiv.id !== \"altair-viz-b329b98c364640bc8dd0780efbd74da1\") {\n",
       "      outputDiv = document.getElementById(\"altair-viz-b329b98c364640bc8dd0780efbd74da1\");\n",
       "    }\n",
       "    const paths = {\n",
       "      \"vega\": \"https://cdn.jsdelivr.net/npm/vega@5?noext\",\n",
       "      \"vega-lib\": \"https://cdn.jsdelivr.net/npm/vega-lib?noext\",\n",
       "      \"vega-lite\": \"https://cdn.jsdelivr.net/npm/vega-lite@5.17.0?noext\",\n",
       "      \"vega-embed\": \"https://cdn.jsdelivr.net/npm/vega-embed@6?noext\",\n",
       "    };\n",
       "\n",
       "    function maybeLoadScript(lib, version) {\n",
       "      var key = `${lib.replace(\"-\", \"\")}_version`;\n",
       "      return (VEGA_DEBUG[key] == version) ?\n",
       "        Promise.resolve(paths[lib]) :\n",
       "        new Promise(function(resolve, reject) {\n",
       "          var s = document.createElement('script');\n",
       "          document.getElementsByTagName(\"head\")[0].appendChild(s);\n",
       "          s.async = true;\n",
       "          s.onload = () => {\n",
       "            VEGA_DEBUG[key] = version;\n",
       "            return resolve(paths[lib]);\n",
       "          };\n",
       "          s.onerror = () => reject(`Error loading script: ${paths[lib]}`);\n",
       "          s.src = paths[lib];\n",
       "        });\n",
       "    }\n",
       "\n",
       "    function showError(err) {\n",
       "      outputDiv.innerHTML = `<div class=\"error\" style=\"color:red;\">${err}</div>`;\n",
       "      throw err;\n",
       "    }\n",
       "\n",
       "    function displayChart(vegaEmbed) {\n",
       "      vegaEmbed(outputDiv, spec, embedOpt)\n",
       "        .catch(err => showError(`Javascript Error: ${err.message}<br>This usually means there's a typo in your chart specification. See the javascript console for the full traceback.`));\n",
       "    }\n",
       "\n",
       "    if(typeof define === \"function\" && define.amd) {\n",
       "      requirejs.config({paths});\n",
       "      require([\"vega-embed\"], displayChart, err => showError(`Error loading script: ${err.message}`));\n",
       "    } else {\n",
       "      maybeLoadScript(\"vega\", \"5\")\n",
       "        .then(() => maybeLoadScript(\"vega-lite\", \"5.17.0\"))\n",
       "        .then(() => maybeLoadScript(\"vega-embed\", \"6\"))\n",
       "        .catch(showError)\n",
       "        .then(() => displayChart(vegaEmbed));\n",
       "    }\n",
       "  })({\"config\": {\"view\": {\"continuousWidth\": 300, \"continuousHeight\": 300}}, \"data\": {\"name\": \"data-dad90e166bf56a31a238e42ca8cfee8d\"}, \"mark\": {\"type\": \"bar\"}, \"encoding\": {\"opacity\": {\"condition\": {\"param\": \"Select\", \"value\": 0.75}, \"value\": 0.05}, \"tooltip\": {\"field\": \"Total\", \"type\": \"quantitative\"}, \"x\": {\"field\": \"Country\", \"sort\": [\"Total:Q\"], \"type\": \"nominal\"}, \"y\": {\"field\": \"Total\", \"type\": \"quantitative\"}}, \"params\": [{\"name\": \"Select\", \"select\": {\"type\": \"point\", \"fields\": [\"Side\"]}, \"bind\": {\"input\": \"select\", \"options\": [\"Allied\", \"Axis\"]}}], \"$schema\": \"https://vega.github.io/schema/vega-lite/v5.17.0.json\", \"datasets\": {\"data-dad90e166bf56a31a238e42ca8cfee8d\": [{\"Country\": \"Soviet Union\", \"Side\": \"Allied\", \"Total\": 34476000.0}, {\"Country\": \"Germany\", \"Side\": \"Axis\", \"Total\": 18100000.0}, {\"Country\": \"United States\", \"Side\": \"Allied\", \"Total\": 16354000.0}, {\"Country\": \"China\", \"Side\": \"Allied\", \"Total\": 14000000.0}, {\"Country\": \"Italy**\", \"Side\": \"Axis\", \"Total\": 9100000.0}, {\"Country\": \"Japan\", \"Side\": \"Axis\", \"Total\": 9100000.0}, {\"Country\": \"Great Britain\", \"Side\": \"Allied\", \"Total\": 5896000.0}, {\"Country\": \"France\", \"Side\": \"Allied\", \"Total\": 5000000.0}, {\"Country\": \"India\", \"Side\": \"Allied\", \"Total\": 2581000.0}, {\"Country\": \"Poland\", \"Side\": \"Allied\", \"Total\": 2000000.0}, {\"Country\": \"Romania\", \"Side\": \"Axis\", \"Total\": 2000000.0}, {\"Country\": \"Yugoslavia\", \"Side\": \"Allied\", \"Total\": 1500000.0}, {\"Country\": \"Canada\", \"Side\": \"Allied\", \"Total\": 1100000.0}, {\"Country\": \"Australia\", \"Side\": \"Allied\", \"Total\": 1000000.0}, {\"Country\": \"Finland\", \"Side\": \"Axis\", \"Total\": 650000.0}, {\"Country\": \"Other Allied***\", \"Side\": \"Allied\", \"Total\": 620000.0}, {\"Country\": \"Belgium\", \"Side\": \"Allied\", \"Total\": 600000.0}, {\"Country\": \"Hungary\", \"Side\": \"Axis\", \"Total\": 600000.0}, {\"Country\": \"Greece\", \"Side\": \"Allied\", \"Total\": 540000.0}, {\"Country\": \"Bulgaria\", \"Side\": \"Axis\", \"Total\": 450000.0}, {\"Country\": \"Netherlands\", \"Side\": \"Allied\", \"Total\": 400000.0}, {\"Country\": \"South Africa\", \"Side\": \"Allied\", \"Total\": 330000.0}, {\"Country\": \"New Zealand\", \"Side\": \"Allied\", \"Total\": 204000.0}, {\"Country\": \"Croatia\", \"Side\": \"Axis\", \"Total\": 200000.0}, {\"Country\": \"Manchukuo\", \"Side\": \"Axis\", \"Total\": 200000.0}, {\"Country\": \"Norway\", \"Side\": \"Allied\", \"Total\": 90000.0}, {\"Country\": \"Slovakia\", \"Side\": \"Axis\", \"Total\": 80000.0}]}}, {\"mode\": \"vega-lite\"});\n",
       "</script>"
      ],
      "text/plain": [
       "alt.Chart(...)"
      ]
     },
     "execution_count": 41,
     "metadata": {},
     "output_type": "execute_result"
    }
   ],
   "source": [
    "sides = ww2['Side'].unique()\n",
    "selectSide = alt.selection_point(\n",
    "    name='Select',\n",
    "    fields=['Side'], \n",
    "    #value={'Side': sides[0]}, THIS DOESN'T WORK\n",
    "    bind=alt.binding_select(options=sides) \n",
    ")\n",
    "\n",
    "alt.Chart(ww2).mark_bar().add_selection(\n",
    "    selectSide\n",
    ").encode(\n",
    "    alt.X('Country:N').sort(['Total:Q']),\n",
    "    alt.Y('Total:Q'),\n",
    "    tooltip='Total:Q',\n",
    "    opacity=alt.condition(selectSide, alt.value(0.75), alt.value(0.05))\n",
    ")"
   ]
  },
  {
   "cell_type": "code",
   "execution_count": 42,
   "metadata": {},
   "outputs": [
    {
     "name": "stdout",
     "output_type": "stream",
     "text": [
      "            Country    Side       Total\n",
      "0      Soviet Union  Allied  34476000.0\n",
      "28          Germany    Axis  18100000.0\n",
      "2     United States  Allied  16354000.0\n",
      "3             China  Allied  14000000.0\n",
      "31          Italy**    Axis   9100000.0\n",
      "32            Japan    Axis   9100000.0\n",
      "6     Great Britain  Allied   5896000.0\n",
      "7            France  Allied   5000000.0\n",
      "8             India  Allied   2581000.0\n",
      "9            Poland  Allied   2000000.0\n",
      "37          Romania    Axis   2000000.0\n",
      "11       Yugoslavia  Allied   1500000.0\n",
      "12           Canada  Allied   1100000.0\n",
      "13        Australia  Allied   1000000.0\n",
      "41          Finland    Axis    650000.0\n",
      "15  Other Allied***  Allied    620000.0\n",
      "16          Belgium  Allied    600000.0\n",
      "44          Hungary    Axis    600000.0\n",
      "18           Greece  Allied    540000.0\n",
      "46         Bulgaria    Axis    450000.0\n",
      "20      Netherlands  Allied    400000.0\n",
      "21     South Africa  Allied    330000.0\n",
      "22      New Zealand  Allied    204000.0\n",
      "50          Croatia    Axis    200000.0\n",
      "51        Manchukuo    Axis    200000.0\n",
      "25           Norway  Allied     90000.0\n",
      "53         Slovakia    Axis     80000.0\n"
     ]
    }
   ],
   "source": [
    "print(ww2)"
   ]
  },
  {
   "cell_type": "code",
   "execution_count": 50,
   "metadata": {},
   "outputs": [
    {
     "name": "stderr",
     "output_type": "stream",
     "text": [
      "/Users/henrynguyen/anaconda3/lib/python3.11/site-packages/altair/utils/deprecation.py:65: AltairDeprecationWarning: 'add_selection' is deprecated. Use 'add_params' instead.\n",
      "  warnings.warn(message, AltairDeprecationWarning, stacklevel=1)\n"
     ]
    },
    {
     "data": {
      "text/html": [
       "\n",
       "<style>\n",
       "  #altair-viz-84f5e44559144f2fb20ab55faa8885a3.vega-embed {\n",
       "    width: 100%;\n",
       "    display: flex;\n",
       "  }\n",
       "\n",
       "  #altair-viz-84f5e44559144f2fb20ab55faa8885a3.vega-embed details,\n",
       "  #altair-viz-84f5e44559144f2fb20ab55faa8885a3.vega-embed details summary {\n",
       "    position: relative;\n",
       "  }\n",
       "</style>\n",
       "<div id=\"altair-viz-84f5e44559144f2fb20ab55faa8885a3\"></div>\n",
       "<script type=\"text/javascript\">\n",
       "  var VEGA_DEBUG = (typeof VEGA_DEBUG == \"undefined\") ? {} : VEGA_DEBUG;\n",
       "  (function(spec, embedOpt){\n",
       "    let outputDiv = document.currentScript.previousElementSibling;\n",
       "    if (outputDiv.id !== \"altair-viz-84f5e44559144f2fb20ab55faa8885a3\") {\n",
       "      outputDiv = document.getElementById(\"altair-viz-84f5e44559144f2fb20ab55faa8885a3\");\n",
       "    }\n",
       "    const paths = {\n",
       "      \"vega\": \"https://cdn.jsdelivr.net/npm/vega@5?noext\",\n",
       "      \"vega-lib\": \"https://cdn.jsdelivr.net/npm/vega-lib?noext\",\n",
       "      \"vega-lite\": \"https://cdn.jsdelivr.net/npm/vega-lite@5.17.0?noext\",\n",
       "      \"vega-embed\": \"https://cdn.jsdelivr.net/npm/vega-embed@6?noext\",\n",
       "    };\n",
       "\n",
       "    function maybeLoadScript(lib, version) {\n",
       "      var key = `${lib.replace(\"-\", \"\")}_version`;\n",
       "      return (VEGA_DEBUG[key] == version) ?\n",
       "        Promise.resolve(paths[lib]) :\n",
       "        new Promise(function(resolve, reject) {\n",
       "          var s = document.createElement('script');\n",
       "          document.getElementsByTagName(\"head\")[0].appendChild(s);\n",
       "          s.async = true;\n",
       "          s.onload = () => {\n",
       "            VEGA_DEBUG[key] = version;\n",
       "            return resolve(paths[lib]);\n",
       "          };\n",
       "          s.onerror = () => reject(`Error loading script: ${paths[lib]}`);\n",
       "          s.src = paths[lib];\n",
       "        });\n",
       "    }\n",
       "\n",
       "    function showError(err) {\n",
       "      outputDiv.innerHTML = `<div class=\"error\" style=\"color:red;\">${err}</div>`;\n",
       "      throw err;\n",
       "    }\n",
       "\n",
       "    function displayChart(vegaEmbed) {\n",
       "      vegaEmbed(outputDiv, spec, embedOpt)\n",
       "        .catch(err => showError(`Javascript Error: ${err.message}<br>This usually means there's a typo in your chart specification. See the javascript console for the full traceback.`));\n",
       "    }\n",
       "\n",
       "    if(typeof define === \"function\" && define.amd) {\n",
       "      requirejs.config({paths});\n",
       "      require([\"vega-embed\"], displayChart, err => showError(`Error loading script: ${err.message}`));\n",
       "    } else {\n",
       "      maybeLoadScript(\"vega\", \"5\")\n",
       "        .then(() => maybeLoadScript(\"vega-lite\", \"5.17.0\"))\n",
       "        .then(() => maybeLoadScript(\"vega-embed\", \"6\"))\n",
       "        .catch(showError)\n",
       "        .then(() => displayChart(vegaEmbed));\n",
       "    }\n",
       "  })({\"config\": {\"view\": {\"continuousWidth\": 300, \"continuousHeight\": 300}}, \"data\": {\"name\": \"data-dad90e166bf56a31a238e42ca8cfee8d\"}, \"mark\": {\"type\": \"arc\"}, \"encoding\": {\"color\": {\"field\": \"Country\", \"type\": \"nominal\"}, \"opacity\": {\"condition\": {\"param\": \"Select\", \"value\": 0.75}, \"value\": 0.05}, \"theta\": {\"field\": \"Total\", \"type\": \"quantitative\"}, \"tooltip\": {\"field\": \"Total\", \"type\": \"quantitative\"}, \"x\": {\"field\": \"Country\", \"sort\": [\"Total:Q\"], \"type\": \"nominal\"}, \"y\": {\"field\": \"Total\", \"type\": \"quantitative\"}}, \"params\": [{\"name\": \"Select\", \"select\": {\"type\": \"point\", \"fields\": [\"Side\"]}, \"bind\": {\"input\": \"select\", \"options\": [\"Allied\", \"Axis\"]}}], \"$schema\": \"https://vega.github.io/schema/vega-lite/v5.17.0.json\", \"datasets\": {\"data-dad90e166bf56a31a238e42ca8cfee8d\": [{\"Country\": \"Soviet Union\", \"Side\": \"Allied\", \"Total\": 34476000.0}, {\"Country\": \"Germany\", \"Side\": \"Axis\", \"Total\": 18100000.0}, {\"Country\": \"United States\", \"Side\": \"Allied\", \"Total\": 16354000.0}, {\"Country\": \"China\", \"Side\": \"Allied\", \"Total\": 14000000.0}, {\"Country\": \"Italy**\", \"Side\": \"Axis\", \"Total\": 9100000.0}, {\"Country\": \"Japan\", \"Side\": \"Axis\", \"Total\": 9100000.0}, {\"Country\": \"Great Britain\", \"Side\": \"Allied\", \"Total\": 5896000.0}, {\"Country\": \"France\", \"Side\": \"Allied\", \"Total\": 5000000.0}, {\"Country\": \"India\", \"Side\": \"Allied\", \"Total\": 2581000.0}, {\"Country\": \"Poland\", \"Side\": \"Allied\", \"Total\": 2000000.0}, {\"Country\": \"Romania\", \"Side\": \"Axis\", \"Total\": 2000000.0}, {\"Country\": \"Yugoslavia\", \"Side\": \"Allied\", \"Total\": 1500000.0}, {\"Country\": \"Canada\", \"Side\": \"Allied\", \"Total\": 1100000.0}, {\"Country\": \"Australia\", \"Side\": \"Allied\", \"Total\": 1000000.0}, {\"Country\": \"Finland\", \"Side\": \"Axis\", \"Total\": 650000.0}, {\"Country\": \"Other Allied***\", \"Side\": \"Allied\", \"Total\": 620000.0}, {\"Country\": \"Belgium\", \"Side\": \"Allied\", \"Total\": 600000.0}, {\"Country\": \"Hungary\", \"Side\": \"Axis\", \"Total\": 600000.0}, {\"Country\": \"Greece\", \"Side\": \"Allied\", \"Total\": 540000.0}, {\"Country\": \"Bulgaria\", \"Side\": \"Axis\", \"Total\": 450000.0}, {\"Country\": \"Netherlands\", \"Side\": \"Allied\", \"Total\": 400000.0}, {\"Country\": \"South Africa\", \"Side\": \"Allied\", \"Total\": 330000.0}, {\"Country\": \"New Zealand\", \"Side\": \"Allied\", \"Total\": 204000.0}, {\"Country\": \"Croatia\", \"Side\": \"Axis\", \"Total\": 200000.0}, {\"Country\": \"Manchukuo\", \"Side\": \"Axis\", \"Total\": 200000.0}, {\"Country\": \"Norway\", \"Side\": \"Allied\", \"Total\": 90000.0}, {\"Country\": \"Slovakia\", \"Side\": \"Axis\", \"Total\": 80000.0}]}}, {\"mode\": \"vega-lite\"});\n",
       "</script>"
      ],
      "text/plain": [
       "alt.Chart(...)"
      ]
     },
     "execution_count": 50,
     "metadata": {},
     "output_type": "execute_result"
    }
   ],
   "source": [
    "selectSide = alt.selection_point(\n",
    "    name='Select',\n",
    "    fields=['Side'], \n",
    "    #value={'Side': sides[0]}, THIS DOESN'T WORK\n",
    "    bind=alt.binding_select(options=sides) \n",
    ")\n",
    "\n",
    "# Create pie chart\n",
    "alt.Chart(ww2).mark_arc().encode(\n",
    "    theta=\"Total\",\n",
    "    color=\"Country:N\"\n",
    "##add_selection below doesn't work \n",
    ").add_selection(\n",
    "    selectSide\n",
    ").encode(\n",
    "    alt.X('Country:N').sort(['Total:Q']),\n",
    "    alt.Y('Total:Q'),\n",
    "    tooltip='Total:Q',\n",
    "    opacity=alt.condition(selectSide, alt.value(0.75), alt.value(0.05))\n",
    ")"
   ]
  }
 ],
 "metadata": {
  "kernelspec": {
   "display_name": "base",
   "language": "python",
   "name": "python3"
  },
  "language_info": {
   "codemirror_mode": {
    "name": "ipython",
    "version": 3
   },
   "file_extension": ".py",
   "mimetype": "text/x-python",
   "name": "python",
   "nbconvert_exporter": "python",
   "pygments_lexer": "ipython3",
   "version": "3.11.5"
  }
 },
 "nbformat": 4,
 "nbformat_minor": 2
}
